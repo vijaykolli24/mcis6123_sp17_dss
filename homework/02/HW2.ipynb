{
 "cells": [
  {
   "cell_type": "markdown",
   "metadata": {},
   "source": [
    "# Decision Support Systems / Homework 2"
   ]
  },
  {
   "cell_type": "markdown",
   "metadata": {},
   "source": [
    "__This assignment is worth up to 20 POINTS to your grade total if you complete it on time.  Late assignments will lose 15%.__\n",
    "\n",
    "\n",
    "| Points <br/>Possible | Due <br/>Date | Time Commitment <br/>(estimated) |\n",
    "|:---------------:|:--------:|:---------------:|\n",
    "| 20  | **Monday, Apr. 10 @ Midnight**| 6-8 hours or less   |\n",
    "\n",
    "* **GRADING:** Grading will be aligned with the completeness of the objectives.\n",
    "\n",
    "* **INDEPENDENT WORK:** Copying, cheating, plagiarism  and academic dishonesty _are not tolerated_ by Univerisity or course policy.  Please see the syllabus for the full departmental and University statement on the academic code of honor."
   ]
  },
  {
   "cell_type": "markdown",
   "metadata": {},
   "source": [
    "## OBJECTIVES \n",
    "\n",
    "* understand data and decision contexts\n",
    "* understand analytics, motivation and scenarios\n",
    "* use minimax, maximin and regret strategies for decisions under ignorance"
   ]
  },
  {
   "cell_type": "markdown",
   "metadata": {},
   "source": [
    "## WHAT TO TURN IN\n",
    "\n",
    "You are being encouraged to turn the assignment in using the provided Jupyter Notebook.  To do so, clone [the course repository](https://git.io/vM0PE) and modify the `HW2.ipynb` file in the `homework/02` directory.  If you do not know how to do this, please ask, or visit one of the many tutorials out there on the basics of using Github and cloning repositories.\n",
    "\n",
    "Turn in a copy of a `.ipynb` file, a PDF or Word Document to Blackboard with the answers to the questions labeled with the &#167; sign."
   ]
  },
  {
   "cell_type": "markdown",
   "metadata": {},
   "source": [
    "## RESOURCES\n",
    "\n",
    "* [SilverDecisions.pl](silverdecisions.pl) decision tree builder (online, no software required)"
   ]
  },
  {
   "cell_type": "markdown",
   "metadata": {},
   "source": [
    "## Part 1\n",
    "**Each correct answer is 3 points, for a total of 12 points for this part**\n",
    "\n",
    "We will be finishing up our discussion with predictive analaytics in this part.\n",
    "\n",
    "Please *read the website* **and** *listen to the podcast below* :\n",
    "\n",
    "* [O'Reilly Data Show Podcast / Oct. 13, 2017 / Understanding predictive analytics](https://www.oreilly.com/ideas/understanding-predictive-analytics)\n",
    "\n",
    "To answer the questions below you will need to have listened to the podcast in its entirety.\n",
    "\n",
    "&#167; **Question 1.1**: Explain the three tiers or layers of the \"layered data architecture\" discussed within the first 10 minutes in the podcast.  What are these three tiers and what are examples from each tier? You may use the table below to fill in your answer:\n",
    "\n",
    "| Layer Name         | Example of this layer |\n",
    "|:----------:        |:---------------------:|\n",
    "| Data               | Datasets              |\n",
    "| Data Extraction    | Cassandra             |\n",
    "| Layer 3            | Big data              |\n",
    "\n",
    "&#167; **Question 1.2**: There was a discussion of a microserver approach to data analytics and data science.  Please explain why such microservers are considered a positive development in analytics (as discussed within the podcast).\n",
    "\n",
    ANS : At the time of compilying Microservices gives the result for only one problem at a time.It fills a decent need for this type of detachment of concern and solidarity inside a specified Microservice . Oe layer of APIs are expanded by the another layer of sorted APIs for more informational index , which doesn't really manage the raw data, however manages bits of insights.
For uncovering larger amount administrations Microservices connected as a method for applying prescient strategies, into a designing platform.., for example, product to product recommendations,proposals, identifying anomalies,  etc
"\n",
    "&#167; **Question 1.3**: Explain how personalized marketing is improving predictive recommendation? This answer should not to exceed more than a few words, so don't overthink what is being asked here.\n",
    "\n",
    Ans :Based on the predictive types and with personilized marketing which combines customer analysis and purchasing information with the help of email or site associations,What makes discounts influenc on purchases for example, to get more knowledge on buyers actual expectation.The initial step is how clients will take utilization onmachine-learning calculation called clustering analysis,which type of purchasers profoundly various groups that have comparable behavioral and statistic characteristics
    "\n",
    "&#167; **Question 1.4**: Give one example of how the financial services industry is taking advantage of the advances in machine learning and predictive analytics?\n"
   ]
  },
  {
   "cell_type": "markdown",
   "metadata": {},
   "source": [
    "## Part 2\n",
    "**This part is worth 5 points.**\n",
    "\n",
    Ans : Company put together the data while doing its business-consumer information about various types of people ,transaction datasets, data. where we can turn social media requires for personal usage . organizations uses datasets habits, they will helpful for company business matters.
    "\n",
    "We talked about decision making under ignorance, where we do not have any deterministic or probabilistic knowledge of the states of nature.\n",
    "\n",
    "Cliff is an investor with a firm trying to make a decision about what to invest in for the next two quarters.  He knows there are 4 economic conditions (states of nature): _recession_, _stable/no growth_, _moderate growth_, and _high growth_. The payoff table for this is given below:\n",
    "\n",
    "| Economic Condition |  Stock A  |  Stock B |\n",
    "|:------------------:|:---------:|:--------:|\n",
    "|recession           |   20      |  -80     |\n",
    "|stable/no growth    |   80      |   10     |\n",
    "|moderate growth     |  120      |  300     |\n",
    "|high growth         |  180      |  500     |\n",
    "\n",
    "&#167; **Question 2.1** (3 points): Use the payoff table above:\n",
    "* Draw the decision tree for the above table.  You are encouraged to use [silver decisions](http://silverdecisions.pl) open source decision tree builder to make your tree.\n",
    "\n",
    ANs :https://github.com/vijaykolli24/DSS/blob/master/Tree2-1.pdf 
    "\n",
    "&#167; **Question 2.2** (1 point): \n",
    "* What is the expected payoff of the minimax strategy?\n",
    "\n",
    Ans : the expected payoff of the minimax strategy is 20. 
    https://github.com/vijaykolli24/DSS/blob/master/Mini_max.pdf
    "\n",
    "&#167; **Question 2.3** (1 point): \n",
    "* What is the expected payoff of the maximin strategy?"
  "\n",
   Ans  the expected payoff of the maximin strategy is 180 . 
    https://github.com/vijaykolli24/DSS/blob/master/Maxi_min.pdf .
    "\n",
    
   ]
  },
  {
   "cell_type": "markdown",
   "metadata": {},
   "source": [
    "## Part 3\n",
    "\n",
    "**This part is worth 3 points.**\n",
    "\n",
    "Using your knowledge from **part 2** we are going to update the scenario with the following information (all applicable to the next 2 quarters):\n",
    "\n",
    "* there is a $0.20$ probability of a recession \n",
    "* there is a $0.40$ probability of a stable/no growth \n",
    "* there is a $0.15$ probability of a quarter growth economy \n",
    "* there is a $0.25$ probability of a high growth economy in the next 2 quarters\n",
    "\n",
    "&#167; **Question 3.1** (2 points): \n",
    "\n",
    "* Update and show your decision tree with the new probabilities.\n",
    "\n",
    "\n",
    Ans :  https://github.com/vijaykolli24/DSS/blob/master/3_1.pdf . 
    "\n",
    "&#167; **Question 3.2** (1 point): \n",
    "\n",
    "* What is the best strategy now given the probabilities if the investment team is optimistic about the next 2 quarters (recall the strategy that selects for high risk/high reward under optimism)?"
   Ans : The best strategy is Maximin strategy.
    https://github.com/vijaykolli24/DSS/blob/master/mm.pdf .
    "\n",
   ]
  }
 ],
 "metadata": {
  "anaconda-cloud": {},
  "kernelspec": {
   "display_name": "Python [conda root]",
   "language": "python",
   "name": "conda-root-py"
  },
  "language_info": {
   "codemirror_mode": {
    "name": "ipython",
    "version": 2
   },
   "file_extension": ".py",
   "mimetype": "text/x-python",
   "name": "python",
   "nbconvert_exporter": "python",
   "pygments_lexer": "ipython2",
   "version": "2.7.12"
  },
  "toc": {
   "nav_menu": {
    "height": "139px",
    "width": "251px"
   },
   "navigate_menu": true,
   "number_sections": false,
   "sideBar": true,
   "threshold": 4,
   "toc_cell": false,
   "toc_section_display": "block",
   "toc_window_display": false
  }
 },
 "nbformat": 4,
 "nbformat_minor": 0
}
